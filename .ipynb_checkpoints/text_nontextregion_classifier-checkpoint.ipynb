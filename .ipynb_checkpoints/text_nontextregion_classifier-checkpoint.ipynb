{
 "cells": [
  {
   "cell_type": "code",
   "execution_count": 76,
   "metadata": {
    "collapsed": true
   },
   "outputs": [],
   "source": [
    "import cv2\n",
    "import glob\n",
    "import numpy as np\n",
    "from skimage.feature import hog\n",
    "from sklearn import preprocessing\n",
    "from sklearn.svm import SVC\n",
    "from sklearn.externals import joblib\n",
    "from sklearn.metrics import classification_report\n",
    "from sklearn.externals import joblib\n",
    "import os\n",
    "import matplotlib.pyplot as plt\n",
    "import matplotlib.image as mpimg\n",
    "%matplotlib inline\n",
    "\n",
    "\n",
    "\n",
    "def preprocess(path):\n",
    "    img = cv2.imread(path)\n",
    "    img = cv2.cvtColor(img, cv2.COLOR_BGR2GRAY)\n",
    "    image = cv2.resize(img, (40, 40))\n",
    "    return image\n",
    "\n",
    "def extractfeat(path):\n",
    "    list_hog_fd = []\n",
    "    for files in os.listdir(path):\n",
    "        img = preprocess(path + \"/\" + files)\n",
    "        print(path + \"/\" + files)\n",
    "        fd = hog(img, orientations=9, pixels_per_cell=(30, 30), cells_per_block=(1, 1), visualise=False)\n",
    "        list_hog_fd.append(fd)\n",
    "    hog_features = np.array(list_hog_fd, 'float64')\n",
    "    return hog_features\n",
    "\n"
   ]
  },
  {
   "cell_type": "code",
   "execution_count": 35,
   "metadata": {},
   "outputs": [
    {
     "name": "stdout",
     "output_type": "stream",
     "text": [
      "Extracting Features(0%)\n",
      "Extracting Features(25%)\n",
      "Extracting Features(50%)\n",
      "Extracting Features(75%)\n",
      "Done\n",
      "Saving Features....\n",
      "Saved\n"
     ]
    }
   ],
   "source": [
    "Text_path = \"./text_nontext-dataset/text\"\n",
    "Non_Text_path = \"./text_nontext-dataset/nontext\"\n",
    "test_path = \"./crossvalidation-set/text/\"\n",
    "Non_test_path = \"./crossvalidation-set/non_text\"\n",
    "\n",
    "print(\"Extracting Features(0%)\")\n",
    "train_text = extractfeat(Text_path)\n",
    "print(\"Extracting Features(25%)\")\n",
    "train_nontext = extractfeat(Non_Text_path)\n",
    "print(\"Extracting Features(50%)\")\n",
    "test_text = extractfeat(test_path)\n",
    "print(\"Extracting Features(75%)\")\n",
    "test_nontext = extractfeat(Non_test_path)\n",
    "print(\"Done\")\n",
    "\n",
    "trainfeat = np.vstack((train_text,train_nontext))\n",
    "testfeat =np.vstack((test_text,test_nontext))\n",
    "\n",
    "trainfeat = preprocessing.normalize(trainfeat)\n",
    "testfeat = preprocessing.normalize(testfeat)\n",
    "\n",
    "print(\"Saving Features....\")\n",
    "np.save(\"./trainfeat.mat\",trainfeat)\n",
    "np.save(\"./testfeat.mat\",testfeat)\n",
    "print(\"Saved\")\n",
    "\n",
    "trainlabeltext = np.ones(len(os.listdir(Text_path)))\n",
    "trainlabelnontext = np.zeros(len(os.listdir(Non_Text_path )))\n",
    "labeltrain = np.hstack((trainlabeltext,trainlabelnontext))\n",
    "\n",
    "testlabeltext = np.ones(len(os.listdir(test_path)))\n",
    "testlabelnontext = np.zeros(len(os.listdir(Non_test_path)))\n",
    "labeltest = np.hstack((testlabeltext,testlabelnontext))\n",
    "\n"
   ]
  },
  {
   "cell_type": "code",
   "execution_count": null,
   "metadata": {
    "collapsed": true
   },
   "outputs": [],
   "source": []
  },
  {
   "cell_type": "code",
   "execution_count": 36,
   "metadata": {},
   "outputs": [
    {
     "name": "stdout",
     "output_type": "stream",
     "text": [
      "Training Model.....\n",
      "Done\n",
      "Training:             precision    recall  f1-score   support\n",
      "\n",
      "        0.0       0.91      0.92      0.91       177\n",
      "        1.0       0.91      0.90      0.91       177\n",
      "\n",
      "avg / total       0.91      0.91      0.91       354\n",
      "\n",
      "Testing:             precision    recall  f1-score   support\n",
      "\n",
      "        0.0       0.84      0.84      0.84        31\n",
      "        1.0       0.84      0.84      0.84        31\n",
      "\n",
      "avg / total       0.84      0.84      0.84        62\n",
      "\n"
     ]
    }
   ],
   "source": [
    "svclassifier = SVC(kernel='rbf')\n",
    "svclassifier.fit(trainfeat, labeltrain)\n",
    "print(\"Training Model.....\")\n",
    "y_pred_train = svclassifier.predict(trainfeat)\n",
    "y_pred_test = svclassifier.predict(testfeat)\n",
    "print(\"Done\")\n",
    "print(\"Training:\"+classification_report(labeltrain, y_pred_train))\n",
    "print(\"Testing:\"+classification_report(labeltest, y_pred_test))\n"
   ]
  },
  {
   "cell_type": "code",
   "execution_count": 37,
   "metadata": {},
   "outputs": [
    {
     "data": {
      "text/plain": [
       "['./Model.pkl']"
      ]
     },
     "execution_count": 37,
     "metadata": {},
     "output_type": "execute_result"
    }
   ],
   "source": [
    "joblib.dump(svclassifier, './Model.pkl') "
   ]
  },
  {
   "cell_type": "code",
   "execution_count": 23,
   "metadata": {
    "collapsed": true
   },
   "outputs": [],
   "source": [
    "# clf = joblib.load('filename.pkl') "
   ]
  },
  {
   "cell_type": "code",
   "execution_count": 92,
   "metadata": {},
   "outputs": [
    {
     "name": "stdout",
     "output_type": "stream",
     "text": [
      "./crossvalidation-set/text//24_2.png\n",
      "./crossvalidation-set/text//14_1.png\n",
      "./crossvalidation-set/text//13_1.png\n",
      "./crossvalidation-set/text//pic_14.png\n",
      "./crossvalidation-set/text//1_1.png\n",
      "./crossvalidation-set/text//pic_10.png\n",
      "./crossvalidation-set/text//24_1.png\n",
      "./crossvalidation-set/text//27_4.png\n",
      "./crossvalidation-set/text//26_2.png\n",
      "./crossvalidation-set/text//pic_18.png\n",
      "./crossvalidation-set/text//pic_5.png\n",
      "./crossvalidation-set/text//pic_19.png\n",
      "./crossvalidation-set/text//pic_17.png\n",
      "./crossvalidation-set/text//17_2.png\n",
      "./crossvalidation-set/text//pic_2.png\n",
      "./crossvalidation-set/text//pic_8.png\n",
      "./crossvalidation-set/text//27_2.png\n",
      "./crossvalidation-set/text//13_3.png\n",
      "./crossvalidation-set/text//pic_16.png\n",
      "./crossvalidation-set/text//pic_15.png\n",
      "./crossvalidation-set/text//26_1.png\n",
      "./crossvalidation-set/text//26_3.png\n",
      "./crossvalidation-set/text//pic_3.png\n",
      "./crossvalidation-set/text//pic_13.png\n",
      "./crossvalidation-set/text//pic_1.png\n",
      "./crossvalidation-set/text//pic_20.png\n",
      "./crossvalidation-set/text//21_1.png\n",
      "./crossvalidation-set/text//pic_11.png\n",
      "./crossvalidation-set/text//pic_9.png\n",
      "./crossvalidation-set/text//pic_12.png\n",
      "./crossvalidation-set/text//pic_4.png\n",
      "[1. 0. 1. 1. 1. 1. 0. 1. 1. 1. 1. 1. 1. 1. 1. 1. 1. 1. 1. 1. 1. 1. 1. 1.\n",
      " 1. 0. 1. 0. 0. 1. 1.]\n"
     ]
    },
    {
     "data": {
      "image/png": "[encoded data removed]",
      "text/plain": [
       "<matplotlib.figure.Figure at 0x7f63a5b64950>"
      ]
     },
     "metadata": {},
     "output_type": "display_data"
    }
   ],
   "source": [
    "# test = extractfeat(\"../testing_images/\")\n",
    "test = extractfeat(test_path)\n",
    "\n",
    "test = preprocessing.normalize(test)\n",
    "\n",
    "image_no = 5\n",
    "test_img_path = \"../testing_images/test_\" + str(image_no) + \".png\"\n",
    "# image = cv2.imread(test_img_path)\n",
    "image = cv2.imread(\"./crossvalidation-set/text/24_1.png\")\n",
    "imgplot = plt.imshow(image)\n",
    "\n",
    "y_pred_test = svclassifier.predict(test)\n",
    "print(y_pred_test)"
   ]
  },
  {
   "cell_type": "code",
   "execution_count": null,
   "metadata": {
    "collapsed": true
   },
   "outputs": [],
   "source": []
  }
 ],
 "metadata": {
  "kernelspec": {
   "display_name": "tensorflow",
   "language": "python",
   "name": "tensorflow"
  },
  "language_info": {
   "codemirror_mode": {
    "name": "ipython",
    "version": 2
   },
   "file_extension": ".py",
   "mimetype": "text/x-python",
   "name": "python",
   "nbconvert_exporter": "python",
   "pygments_lexer": "ipython2",
   "version": "2.7.13"
  }
 },
 "nbformat": 4,
 "nbformat_minor": 2
}
